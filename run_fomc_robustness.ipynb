{
 "cells": [
  {
   "cell_type": "code",
   "execution_count": 1,
   "id": "32be3645-4d26-4bc9-ad29-d72a6c13d69c",
   "metadata": {},
   "outputs": [
    {
     "data": {
      "application/vnd.jupyter.widget-view+json": {
       "model_id": "3e1df79e2d5b48bd9584f640ad92319a",
       "version_major": 2,
       "version_minor": 0
      },
      "text/plain": [
       "modules.json:   0%|          | 0.00/229 [00:00<?, ?B/s]"
      ]
     },
     "metadata": {},
     "output_type": "display_data"
    },
    {
     "data": {
      "application/vnd.jupyter.widget-view+json": {
       "model_id": "af023d4e5ba742b48832d5d3bb60bb42",
       "version_major": 2,
       "version_minor": 0
      },
      "text/plain": [
       "config_sentence_transformers.json:   0%|          | 0.00/122 [00:00<?, ?B/s]"
      ]
     },
     "metadata": {},
     "output_type": "display_data"
    },
    {
     "data": {
      "application/vnd.jupyter.widget-view+json": {
       "model_id": "7c4847cc5a4340a29b012f271aeb28a1",
       "version_major": 2,
       "version_minor": 0
      },
      "text/plain": [
       "README.md:   0%|          | 0.00/3.51k [00:00<?, ?B/s]"
      ]
     },
     "metadata": {},
     "output_type": "display_data"
    },
    {
     "data": {
      "application/vnd.jupyter.widget-view+json": {
       "model_id": "e6cd0893b29d459ca08510146dba6298",
       "version_major": 2,
       "version_minor": 0
      },
      "text/plain": [
       "sentence_bert_config.json:   0%|          | 0.00/53.0 [00:00<?, ?B/s]"
      ]
     },
     "metadata": {},
     "output_type": "display_data"
    },
    {
     "data": {
      "application/vnd.jupyter.widget-view+json": {
       "model_id": "010dd9ca7337422cacedbc1f31d350a2",
       "version_major": 2,
       "version_minor": 0
      },
      "text/plain": [
       "config.json:   0%|          | 0.00/629 [00:00<?, ?B/s]"
      ]
     },
     "metadata": {},
     "output_type": "display_data"
    },
    {
     "name": "stderr",
     "output_type": "stream",
     "text": [
      "Xet Storage is enabled for this repo, but the 'hf_xet' package is not installed. Falling back to regular HTTP download. For better performance, install the package with: `pip install huggingface_hub[hf_xet]` or `pip install hf_xet`\n"
     ]
    },
    {
     "data": {
      "application/vnd.jupyter.widget-view+json": {
       "model_id": "87bb087ae32044f183de48c5f49b8e54",
       "version_major": 2,
       "version_minor": 0
      },
      "text/plain": [
       "model.safetensors:   0%|          | 0.00/90.9M [00:00<?, ?B/s]"
      ]
     },
     "metadata": {},
     "output_type": "display_data"
    },
    {
     "data": {
      "application/vnd.jupyter.widget-view+json": {
       "model_id": "1c79f62306a746298f8d77a976c1b3d0",
       "version_major": 2,
       "version_minor": 0
      },
      "text/plain": [
       "tokenizer_config.json:   0%|          | 0.00/314 [00:00<?, ?B/s]"
      ]
     },
     "metadata": {},
     "output_type": "display_data"
    },
    {
     "data": {
      "application/vnd.jupyter.widget-view+json": {
       "model_id": "ba8e1501256f4a17bb93fbd3869fc208",
       "version_major": 2,
       "version_minor": 0
      },
      "text/plain": [
       "vocab.txt:   0%|          | 0.00/232k [00:00<?, ?B/s]"
      ]
     },
     "metadata": {},
     "output_type": "display_data"
    },
    {
     "data": {
      "application/vnd.jupyter.widget-view+json": {
       "model_id": "5b0896b9b6b34075a17cf5e75ea33047",
       "version_major": 2,
       "version_minor": 0
      },
      "text/plain": [
       "tokenizer.json:   0%|          | 0.00/466k [00:00<?, ?B/s]"
      ]
     },
     "metadata": {},
     "output_type": "display_data"
    },
    {
     "data": {
      "application/vnd.jupyter.widget-view+json": {
       "model_id": "675ab188916f4e4bbd65c9bac630f7d6",
       "version_major": 2,
       "version_minor": 0
      },
      "text/plain": [
       "special_tokens_map.json:   0%|          | 0.00/112 [00:00<?, ?B/s]"
      ]
     },
     "metadata": {},
     "output_type": "display_data"
    },
    {
     "data": {
      "application/vnd.jupyter.widget-view+json": {
       "model_id": "13f2677ff4cc4bf78ae2f3b7ba35d9c9",
       "version_major": 2,
       "version_minor": 0
      },
      "text/plain": [
       "config.json:   0%|          | 0.00/190 [00:00<?, ?B/s]"
      ]
     },
     "metadata": {},
     "output_type": "display_data"
    }
   ],
   "source": [
    "import boto3\n",
    "import requests\n",
    "from bs4 import BeautifulSoup\n",
    "from sentence_transformers import SentenceTransformer\n",
    "import pandas as pd\n",
    "import numpy as np\n",
    "import statistics\n",
    "from sklearn.metrics.pairwise import cosine_similarity\n",
    "import time \n",
    "import matplotlib.pyplot as plt\n",
    "import seaborn as sns\n",
    "\n",
    "def compute_sbert_similarity(text1, text2):\n",
    "    embeddings = model.encode([text1, text2])\n",
    "    return cosine_similarity([embeddings[0]], [embeddings[1]])[0][0]\n",
    "\n",
    "def calculate_descriptive_stats(scores):\n",
    "    mean = statistics.mean(scores)  \n",
    "    median = statistics.median(scores)  \n",
    "    mode = statistics.mode(scores)  \n",
    "    stdev = statistics.stdev(scores)  \n",
    "    variance = statistics.variance(scores)  \n",
    "    # Return descriptive statistics\n",
    "    return {\n",
    "        \"mean\": mean,\n",
    "        \"median\": median,\n",
    "        \"mode\": mode,\n",
    "        \"stdev\": stdev,\n",
    "        \"variance\": variance\n",
    "    }\n",
    "\n",
    "def get_outlier_count(data_values):\n",
    "    data_values = np.array(data_values)  # Convert to NumPy array\n",
    "    # Compute Q1 (25th percentile) and Q3 (75th percentile)\n",
    "    Q1 = np.percentile(data_values, 25)\n",
    "    Q3 = np.percentile(data_values, 75)\n",
    "    # Compute Interquartile Range (IQR)\n",
    "    IQR = Q3 - Q1\n",
    "    # Define lower and upper bounds\n",
    "    lower_bound = Q1 - 1.5 * IQR\n",
    "    upper_bound = Q3 + 1.5 * IQR\n",
    "    # Identify outliers\n",
    "    outliers = data_values[(data_values < lower_bound) | (data_values > upper_bound)]\n",
    "    return len(outliers)\n",
    "\n",
    "# Initialize Amazon Bedrock Runtime Client    \n",
    "bedrock = boto3.client('bedrock-runtime', region_name='us-east-1')\n",
    "# Initialize SBERT model to evaluate semantic similarity\n",
    "model = SentenceTransformer('paraphrase-MiniLM-L6-v2')"
   ]
  },
  {
   "cell_type": "code",
   "execution_count": 2,
   "id": "a9ae7aa9-879e-47b0-bb8c-dc066c7d2041",
   "metadata": {},
   "outputs": [],
   "source": [
    "# Create list of URLs for minutes\n",
    "minutes=['https://www.federalreserve.gov/monetarypolicy/fomcminutes20180321.htm', \n",
    "             'https://www.federalreserve.gov/monetarypolicy/fomcminutes20180502.htm',\n",
    "             'https://www.federalreserve.gov/monetarypolicy/fomcminutes20180613.htm',\n",
    "             'https://www.federalreserve.gov/monetarypolicy/fomcminutes20180801.htm',\n",
    "             'https://www.federalreserve.gov/monetarypolicy/fomcminutes20180926.htm',\n",
    "             'https://www.federalreserve.gov/monetarypolicy/fomcminutes20181108.htm',\n",
    "             'https://www.federalreserve.gov/monetarypolicy/fomcminutes20181219.htm', # End of 2018\n",
    "             'https://www.federalreserve.gov/monetarypolicy/fomcminutes20190130.htm',\n",
    "             'https://www.federalreserve.gov/monetarypolicy/fomcminutes20190320.htm',\n",
    "             'https://www.federalreserve.gov/monetarypolicy/fomcminutes20190501.htm',\n",
    "             'https://www.federalreserve.gov/monetarypolicy/fomcminutes20190619.htm',\n",
    "             'https://www.federalreserve.gov/monetarypolicy/fomcminutes20190731.htm',\n",
    "             'https://www.federalreserve.gov/monetarypolicy/fomcminutes20190918.htm',\n",
    "             'https://www.federalreserve.gov/monetarypolicy/fomcminutes20191030.htm',\n",
    "             'https://www.federalreserve.gov/monetarypolicy/fomcminutes20191211.htm', # End of 2019\n",
    "             'https://www.federalreserve.gov/monetarypolicy/fomcminutes20200129.htm',\n",
    "             'https://www.federalreserve.gov/monetarypolicy/fomcminutes20200315.htm',\n",
    "             'https://www.federalreserve.gov/monetarypolicy/fomcminutes20200429.htm',\n",
    "             'https://www.federalreserve.gov/monetarypolicy/fomcminutes20200610.htm',\n",
    "             'https://www.federalreserve.gov/monetarypolicy/fomcminutes20200729.htm',\n",
    "             'https://www.federalreserve.gov/monetarypolicy/fomcminutes20200916.htm',\n",
    "             'https://www.federalreserve.gov/monetarypolicy/fomcminutes20201105.htm',\n",
    "             'https://www.federalreserve.gov/monetarypolicy/fomcminutes20201216.htm', # End of 2020\n",
    "             'https://www.federalreserve.gov/monetarypolicy/fomcminutes20210127.htm',\n",
    "             'https://www.federalreserve.gov/monetarypolicy/fomcminutes20210317.htm',\n",
    "             'https://www.federalreserve.gov/monetarypolicy/fomcminutes20210428.htm',\n",
    "             'https://www.federalreserve.gov/monetarypolicy/fomcminutes20210616.htm',\n",
    "             'https://www.federalreserve.gov/monetarypolicy/fomcminutes20210728.htm',\n",
    "             'https://www.federalreserve.gov/monetarypolicy/fomcminutes20210922.htm',\n",
    "             'https://www.federalreserve.gov/monetarypolicy/fomcminutes20211103.htm',\n",
    "             'https://www.federalreserve.gov/monetarypolicy/fomcminutes20211215.htm', # End of 2021\n",
    "             'https://www.federalreserve.gov/monetarypolicy/fomcminutes20220126.htm',\n",
    "             'https://www.federalreserve.gov/monetarypolicy/fomcminutes20220316.htm',\n",
    "             'https://www.federalreserve.gov/monetarypolicy/fomcminutes20220504.htm',\n",
    "             'https://www.federalreserve.gov/monetarypolicy/fomcminutes20220615.htm',\n",
    "             'https://www.federalreserve.gov/monetarypolicy/fomcminutes20220727.htm',\n",
    "             'https://www.federalreserve.gov/monetarypolicy/fomcminutes20220921.htm',\n",
    "             'https://www.federalreserve.gov/monetarypolicy/fomcminutes20221102.htm',\n",
    "             'https://www.federalreserve.gov/monetarypolicy/fomcminutes20221214.htm', # End of 2022 \n",
    "             'https://www.federalreserve.gov/monetarypolicy/fomcminutes20230201.htm',\n",
    "             'https://www.federalreserve.gov/monetarypolicy/fomcminutes20230322.htm',\n",
    "             'https://www.federalreserve.gov/monetarypolicy/fomcminutes20230503.htm',\n",
    "             'https://www.federalreserve.gov/monetarypolicy/fomcminutes20230614.htm',\n",
    "             'https://www.federalreserve.gov/monetarypolicy/fomcminutes20230726.htm', \n",
    "             'https://www.federalreserve.gov/monetarypolicy/fomcminutes20230920.htm',\n",
    "             'https://www.federalreserve.gov/monetarypolicy/fomcminutes20231101.htm',\n",
    "             'https://www.federalreserve.gov/monetarypolicy/fomcminutes20231213.htm', # End of 2023\n",
    "             'https://www.federalreserve.gov/monetarypolicy/fomcminutes20240131.htm',\n",
    "             'https://www.federalreserve.gov/monetarypolicy/fomcminutes20240320.htm',\n",
    "             'https://www.federalreserve.gov/monetarypolicy/fomcminutes20240501.htm',\n",
    "             'https://www.federalreserve.gov/monetarypolicy/fomcminutes20240612.htm',\n",
    "             'https://www.federalreserve.gov/monetarypolicy/fomcminutes20240731.htm',\n",
    "             'https://www.federalreserve.gov/monetarypolicy/fomcminutes20240918.htm',\n",
    "             'https://www.federalreserve.gov/monetarypolicy/fomcminutes20241107.htm',\n",
    "             'https://www.federalreserve.gov/monetarypolicy/fomcminutes20241218.htm', # End of 2024\n",
    "             'https://www.federalreserve.gov/monetarypolicy/fomcminutes20250129.htm',\n",
    "             'https://www.federalreserve.gov/monetarypolicy/fomcminutes20250319.htm'\n",
    "         \n",
    "]\n",
    "\n",
    "# Create list of URLs for summaries \n",
    "summaries=['https://www.federalreserve.gov/newsevents/pressreleases/monetary20180321a.htm',\n",
    "             'https://www.federalreserve.gov/newsevents/pressreleases/monetary20180502a.htm',\n",
    "             'https://www.federalreserve.gov/newsevents/pressreleases/monetary20180613a.htm',\n",
    "             'https://www.federalreserve.gov/newsevents/pressreleases/monetary20180801a.htm',\n",
    "             'https://www.federalreserve.gov/newsevents/pressreleases/monetary20180926a.htm' ,\n",
    "             'https://www.federalreserve.gov/newsevents/pressreleases/monetary20181108a.htm' ,\n",
    "             'https://www.federalreserve.gov/newsevents/pressreleases/monetary20181219a.htm', # End of 2018\n",
    "             'https://www.federalreserve.gov/newsevents/pressreleases/monetary20190130a.htm',\n",
    "             'https://www.federalreserve.gov/newsevents/pressreleases/monetary20190320a.htm',\n",
    "             'https://www.federalreserve.gov/newsevents/pressreleases/monetary20190501a.htm',\n",
    "             'https://www.federalreserve.gov/newsevents/pressreleases/monetary20190619a.htm',\n",
    "             'https://www.federalreserve.gov/newsevents/pressreleases/monetary20190731a.htm',\n",
    "             'https://www.federalreserve.gov/newsevents/pressreleases/monetary20190918a.htm',\n",
    "             'https://www.federalreserve.gov/newsevents/pressreleases/monetary20191030a.htm',\n",
    "             'https://www.federalreserve.gov/newsevents/pressreleases/monetary20191211a.htm', # End of 2019\n",
    "             'https://www.federalreserve.gov/newsevents/pressreleases/monetary20200129a.htm',\n",
    "             'https://www.federalreserve.gov/newsevents/pressreleases/monetary20200315a.htm',\n",
    "             'https://www.federalreserve.gov/newsevents/pressreleases/monetary20200429a.htm',\n",
    "             'https://www.federalreserve.gov/newsevents/pressreleases/monetary20200610a.htm',\n",
    "             'https://www.federalreserve.gov/newsevents/pressreleases/monetary20200729a.htm',\n",
    "             'https://www.federalreserve.gov/newsevents/pressreleases/monetary20200916a.htm',\n",
    "             'https://www.federalreserve.gov/newsevents/pressreleases/monetary20201105a.htm',\n",
    "             'https://www.federalreserve.gov/newsevents/pressreleases/monetary20201216a.htm', # End of 2020\n",
    "             'https://www.federalreserve.gov/newsevents/pressreleases/monetary20210127a.htm',\n",
    "             'https://www.federalreserve.gov/newsevents/pressreleases/monetary20210317a.htm',\n",
    "             'https://www.federalreserve.gov/newsevents/pressreleases/monetary20210428a.htm',\n",
    "             'https://www.federalreserve.gov/newsevents/pressreleases/monetary20210616a.htm',\n",
    "             'https://www.federalreserve.gov/newsevents/pressreleases/monetary20210728a.htm',\n",
    "             'https://www.federalreserve.gov/newsevents/pressreleases/monetary20210922a.htm',\n",
    "             'https://www.federalreserve.gov/newsevents/pressreleases/monetary20211103a.htm',\n",
    "             'https://www.federalreserve.gov/newsevents/pressreleases/monetary20211215a.htm', #End of 2021\n",
    "             'https://www.federalreserve.gov/newsevents/pressreleases/monetary20220126a.htm',\n",
    "             'https://www.federalreserve.gov/newsevents/pressreleases/monetary20220316a.htm',\n",
    "             'https://www.federalreserve.gov/newsevents/pressreleases/monetary20220504a.htm',\n",
    "             'https://www.federalreserve.gov/newsevents/pressreleases/monetary20220615a.htm',\n",
    "             'https://www.federalreserve.gov/newsevents/pressreleases/monetary20220727a.htm',\n",
    "             'https://www.federalreserve.gov/newsevents/pressreleases/monetary20220921a.htm',\n",
    "             'https://www.federalreserve.gov/newsevents/pressreleases/monetary20221102a.htm',\n",
    "             'https://www.federalreserve.gov/newsevents/pressreleases/monetary20221214a.htm', # End of 2022\n",
    "             'https://www.federalreserve.gov/newsevents/pressreleases/monetary20230201a.htm',\n",
    "             'https://www.federalreserve.gov/newsevents/pressreleases/monetary20230322a.htm',\n",
    "             'https://www.federalreserve.gov/newsevents/pressreleases/monetary20230503a.htm',\n",
    "             'https://www.federalreserve.gov/newsevents/pressreleases/monetary20230614a.htm',\n",
    "             'https://www.federalreserve.gov/newsevents/pressreleases/monetary20230726a.htm',\n",
    "             'https://www.federalreserve.gov/newsevents/pressreleases/monetary20230920a.htm',\n",
    "             'https://www.federalreserve.gov/newsevents/pressreleases/monetary20231101a.htm',\n",
    "             'https://www.federalreserve.gov/newsevents/pressreleases/monetary20221214a.htm', # End of 2023\n",
    "             'https://www.federalreserve.gov/newsevents/pressreleases/monetary20240131a.htm',\n",
    "             'https://www.federalreserve.gov/newsevents/pressreleases/monetary20240320a.htm',\n",
    "             'https://www.federalreserve.gov/newsevents/pressreleases/monetary20240501a.htm',\n",
    "             'https://www.federalreserve.gov/newsevents/pressreleases/monetary20240612a.htm',\n",
    "             'https://www.federalreserve.gov/newsevents/pressreleases/monetary20240731a.htm',\n",
    "             'https://www.federalreserve.gov/newsevents/pressreleases/monetary20240918a.htm',\n",
    "             'https://www.federalreserve.gov/newsevents/pressreleases/monetary20241107a.htm',\n",
    "             'https://www.federalreserve.gov/newsevents/pressreleases/monetary20241218a.htm', # End of 2024\n",
    "             'https://www.federalreserve.gov/newsevents/pressreleases/monetary20250129a.htm',\n",
    "             'https://www.federalreserve.gov/newsevents/pressreleases/monetary20250319a.htm'\n",
    "]\n",
    "\n"
   ]
  },
  {
   "cell_type": "code",
   "execution_count": null,
   "id": "1b70642d-d196-48ef-83cb-5ef838edbb3c",
   "metadata": {},
   "outputs": [],
   "source": [
    "# Create lists to store descriptive statistics for each iteration\n",
    "means, medians, modes, stdevs, variances, outliers = [], [], [], [], [],[]\n",
    "\n",
    "# Dictionary to persist prompts and summaries across iterations\n",
    "mins_prompts = {}  \n",
    "sums_summaries = {}  # Persist across i iterations\n",
    "\n",
    "for i in range(25):  # Outer loop for robustness iterations\n",
    "    # Create dictionaries for storing data in each iteration\n",
    "    mins_messages = {}  \n",
    "    mins_model_responses = {}\n",
    "    mins_summaries = {}\n",
    "    cosine_sims = {}\n",
    "    for j in range(57):  # Inner loop for each FOMC meeting\n",
    "        ## Extract Minutes from FOMC\n",
    "        if i == 0:\n",
    "            response = requests.get(minutes[j])\n",
    "            soup = BeautifulSoup(response.text, \"html.parser\")\n",
    "            text_content = soup.get_text()\n",
    "            # Store prompt in dictionary for future iterations\n",
    "            mins_prompts[j] = f\"\"\"You are an expert editor summarizing complex information.\n",
    "            Rewrite the following text into a concise, 700-token abstractive summary.\n",
    "            Focus on clarity, brevity, and essential insights while avoiding unnecessary details. \n",
    "            Do not include any information about dates (month/year) or whether the information is from minutes or summaries. \n",
    "            \n",
    "            Text:\n",
    "            {text_content}\n",
    "            \"\"\"\n",
    "            # Prepare the message for Bedrock\n",
    "            mins_messages[j] = [\n",
    "                {\"role\": \"user\", \"content\": [{\"text\": mins_prompts[j]}]},\n",
    "            ]\n",
    "            # Extract Statements from FOMC and persist\n",
    "            response = requests.get(summaries[j])\n",
    "            soup = BeautifulSoup(response.text, \"html.parser\")\n",
    "            sums_summaries[j] = soup.get_text()  # Persist across iterations\n",
    "        else:\n",
    "            # Use stored prompts from the first iteration\n",
    "            mins_messages[j] = [\n",
    "                {\"role\": \"user\", \"content\": [{\"text\": mins_prompts[j]}]},\n",
    "            ]\n",
    "        # Send the request to Bedrock and get the response\n",
    "        mins_model_responses[j] = bedrock.converse(\n",
    "            modelId='amazon.nova-micro-v1:0', \n",
    "            messages=mins_messages[j]\n",
    "        )\n",
    "        # Store the LLM response\n",
    "        mins_summaries[j] = mins_model_responses[j][\"output\"][\"message\"][\"content\"][0][\"text\"]\n",
    "        ## Compute similarity using SBERT\n",
    "        sbert_score = compute_sbert_similarity(mins_summaries[j], sums_summaries[j])\n",
    "        cosine_sims[j] = sbert_score\n",
    "        # Introduce a 1 second delay after each request to avoid throttling\n",
    "        time.sleep(1)\n",
    "    # Compute descriptive statistics after all j iterations\n",
    "    stats = calculate_descriptive_stats(list(cosine_sims.values()))\n",
    "    # Append results to lists\n",
    "    means.append(stats[\"mean\"])\n",
    "    medians.append(stats[\"median\"])\n",
    "    modes.append(stats[\"mode\"])\n",
    "    stdevs.append(stats[\"stdev\"])\n",
    "    variances.append(stats[\"variance\"])\n",
    "    outliers.append(get_outlier_count(list(cosine_sims.values())))"
   ]
  },
  {
   "cell_type": "code",
   "execution_count": 4,
   "id": "c4b63766-9076-422e-9469-5e97861d17ed",
   "metadata": {},
   "outputs": [
    {
     "data": {
      "text/plain": [
       "{'mean_of_means': 0.57250804,\n",
       " 'mean_of_medians': 0.5780769,\n",
       " 'mean_of_modes': 0.5752976,\n",
       " 'mean_of_stdevs': 0.04038927856196103,\n",
       " 'mean_of_variances': 0.0016417296,\n",
       " 'mean_of_outliers': 1.08}"
      ]
     },
     "execution_count": 4,
     "metadata": {},
     "output_type": "execute_result"
    }
   ],
   "source": [
    "# Compute the mean of each metric across all iterations\n",
    "final_results = {\n",
    "    \"mean_of_means\": statistics.mean(means),\n",
    "    \"mean_of_medians\": statistics.mean(medians),\n",
    "    \"mean_of_modes\": statistics.mean(modes) if modes else None,\n",
    "    \"mean_of_stdevs\": statistics.mean(stdevs),\n",
    "    \"mean_of_variances\": statistics.mean(variances),\n",
    "    \"mean_of_outliers\": statistics.mean(outliers)\n",
    "}\n",
    "# Print final results\n",
    "final_results"
   ]
  },
  {
   "cell_type": "code",
   "execution_count": 9,
   "id": "7317807b-d49d-484f-aeff-807b8f74a307",
   "metadata": {},
   "outputs": [
    {
     "data": {
      "image/png": "[encoded data removed]",
      "text/plain": [
       "<Figure size 800x600 with 1 Axes>"
      ]
     },
     "metadata": {},
     "output_type": "display_data"
    }
   ],
   "source": [
    "# Examine distribution of similarity scores\n",
    "plt.figure(figsize=(8, 6))\n",
    "sns.kdeplot(means, fill=True, color='blue', linewidth=2)\n",
    "# Labels and title\n",
    "plt.xlabel('Means',fontsize=14, fontweight='bold')\n",
    "plt.ylabel('Density',fontsize=14, fontweight='bold')\n",
    "plt.title('Distribution of Similarity Score Means',fontsize=16, fontweight='bold')\n",
    "# Include lines to visualize mean and median values\n",
    "plt.axvline(np.mean(means), color='red', linestyle='dashed', linewidth=2, label='Mean')\n",
    "# Save the plot\n",
    "plt.savefig('images/similarity_score_means_distribution.png')\n",
    "# Show the plot\n",
    "plt.show()\n",
    "# Close the plot to avoid issues when creating new plots in the same session\n",
    "plt.close()"
   ]
  },
  {
   "cell_type": "code",
   "execution_count": 10,
   "id": "66fc158f-2bec-4f05-b1be-02ccb6867b0f",
   "metadata": {},
   "outputs": [
    {
     "data": {
      "text/plain": [
       "[0.57188904,\n",
       " 0.57449275,\n",
       " 0.57284075,\n",
       " 0.5707002,\n",
       " 0.5695988,\n",
       " 0.5775162,\n",
       " 0.56927395,\n",
       " 0.57261765,\n",
       " 0.5645868,\n",
       " 0.57543534,\n",
       " 0.575011,\n",
       " 0.573474,\n",
       " 0.57507175,\n",
       " 0.5732606,\n",
       " 0.57501477,\n",
       " 0.5692984,\n",
       " 0.5694029,\n",
       " 0.5740369,\n",
       " 0.5695492,\n",
       " 0.5761752,\n",
       " 0.5764275,\n",
       " 0.5742638,\n",
       " 0.5731179,\n",
       " 0.57063496,\n",
       " 0.5690101]"
      ]
     },
     "execution_count": 10,
     "metadata": {},
     "output_type": "execute_result"
    }
   ],
   "source": [
    "means"
   ]
  },
  {
   "cell_type": "code",
   "execution_count": 11,
   "id": "5fefa2a1-68e4-4718-a4a1-f6b3fef73c4e",
   "metadata": {},
   "outputs": [
    {
     "data": {
      "text/plain": [
       "[3, 0, 0, 0, 1, 2, 4, 1, 0, 1, 0, 0, 1, 3, 1, 0, 2, 2, 3, 0, 1, 0, 0, 2, 0]"
      ]
     },
     "execution_count": 11,
     "metadata": {},
     "output_type": "execute_result"
    }
   ],
   "source": [
    "outliers"
   ]
  }
 ],
 "metadata": {
  "kernelspec": {
   "display_name": "conda_python3",
   "language": "python",
   "name": "conda_python3"
  },
  "language_info": {
   "codemirror_mode": {
    "name": "ipython",
    "version": 3
   },
   "file_extension": ".py",
   "mimetype": "text/x-python",
   "name": "python",
   "nbconvert_exporter": "python",
   "pygments_lexer": "ipython3",
   "version": "3.10.16"
  }
 },
 "nbformat": 4,
 "nbformat_minor": 5
}
